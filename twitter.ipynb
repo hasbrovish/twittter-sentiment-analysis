{
  "nbformat": 4,
  "nbformat_minor": 0,
  "metadata": {
    "colab": {
      "name": "Untitled7.ipynb",
      "version": "0.3.2",
      "provenance": []
    },
    "kernelspec": {
      "name": "python3",
      "display_name": "Python 3"
    }
  },
  "cells": [
    {
      "metadata": {
        "id": "6Li9BTSQkN0Y",
        "colab_type": "code",
        "colab": {
          "resources": {
            "http://localhost:8080/nbextensions/google.colab/files.js": {
              "data": "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",
              "ok": true,
              "headers": [
                [
                  "content-type",
                  "application/javascript"
                ]
              ],
              "status": 200,
              "status_text": ""
            }
          },
          "base_uri": "https://localhost:8080/",
          "height": 74
        },
        "outputId": "03975c50-fe26-4750-cdb9-bdfae1340c72"
      },
      "cell_type": "code",
      "source": [
        "from google.colab import files\n",
        "test = files.upload()"
      ],
      "execution_count": 49,
      "outputs": [
        {
          "output_type": "display_data",
          "data": {
            "text/html": [
              "\n",
              "     <input type=\"file\" id=\"files-7706da40-32bd-45fe-bb5b-1e3c21bd6679\" name=\"files[]\" multiple disabled />\n",
              "     <output id=\"result-7706da40-32bd-45fe-bb5b-1e3c21bd6679\">\n",
              "      Upload widget is only available when the cell has been executed in the\n",
              "      current browser session. Please rerun this cell to enable.\n",
              "      </output>\n",
              "      <script src=\"/nbextensions/google.colab/files.js\"></script> "
            ],
            "text/plain": [
              "<IPython.core.display.HTML object>"
            ]
          },
          "metadata": {
            "tags": []
          }
        },
        {
          "output_type": "stream",
          "text": [
            "Saving 0000000000002747_test_twitter_x_test.csv to 0000000000002747_test_twitter_x_test (3).csv\n"
          ],
          "name": "stdout"
        }
      ]
    },
    {
      "metadata": {
        "id": "1kvPdfGtkXgy",
        "colab_type": "code",
        "colab": {
          "resources": {
            "http://localhost:8080/nbextensions/google.colab/files.js": {
              "data": "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",
              "ok": true,
              "headers": [
                [
                  "content-type",
                  "application/javascript"
                ]
              ],
              "status": 200,
              "status_text": ""
            }
          },
          "base_uri": "https://localhost:8080/",
          "height": 74
        },
        "outputId": "4234773e-dcb3-4d89-aade-5e3c370cd442"
      },
      "cell_type": "code",
      "source": [
        "from google.colab import files\n",
        "train = files.upload()"
      ],
      "execution_count": 50,
      "outputs": [
        {
          "output_type": "display_data",
          "data": {
            "text/html": [
              "\n",
              "     <input type=\"file\" id=\"files-5ecbb833-7cad-4758-b30b-8b56171af7df\" name=\"files[]\" multiple disabled />\n",
              "     <output id=\"result-5ecbb833-7cad-4758-b30b-8b56171af7df\">\n",
              "      Upload widget is only available when the cell has been executed in the\n",
              "      current browser session. Please rerun this cell to enable.\n",
              "      </output>\n",
              "      <script src=\"/nbextensions/google.colab/files.js\"></script> "
            ],
            "text/plain": [
              "<IPython.core.display.HTML object>"
            ]
          },
          "metadata": {
            "tags": []
          }
        },
        {
          "output_type": "stream",
          "text": [
            "Saving 0000000000002747_training_twitter_x_y_train.csv to 0000000000002747_training_twitter_x_y_train (3).csv\n"
          ],
          "name": "stdout"
        }
      ]
    },
    {
      "metadata": {
        "id": "Tel0iJ4ESPM6",
        "colab_type": "code",
        "colab": {}
      },
      "cell_type": "code",
      "source": [
        ""
      ],
      "execution_count": 0,
      "outputs": []
    },
    {
      "metadata": {
        "id": "5mtTXZIDkeo0",
        "colab_type": "code",
        "colab": {}
      },
      "cell_type": "code",
      "source": [
        "import pandas as pd\n",
        "\n",
        "import io\n",
        "\n",
        "tf = pd.read_csv(io.StringIO(test['0000000000002747_test_twitter_x_test.csv'].decode('utf-8')))\n",
        "data = pd.read_csv(io.StringIO(train['0000000000002747_training_twitter_x_y_train.csv'].decode('utf-8')))\n"
      ],
      "execution_count": 0,
      "outputs": []
    },
    {
      "metadata": {
        "id": "htWB6af7kp0i",
        "colab_type": "code",
        "colab": {}
      },
      "cell_type": "code",
      "source": [
        "data.drop('tweet_id',inplace=True,axis=1)\n",
        "data.drop('airline_sentiment_gold',inplace=True,axis=1)\n",
        "data.drop('negativereason_gold',inplace=True,axis=1)\n",
        "data.drop('retweet_count',inplace=True,axis=1)\n",
        "data.drop('tweet_coord',inplace=True,axis=1)\n",
        "data.drop('airline',inplace=True,axis=1)\n",
        "data.drop('name',inplace=True,axis=1)\n",
        "data.drop('tweet_created',inplace=True,axis=1)\n",
        "data.drop('tweet_location',inplace=True,axis=1)\n",
        "data.drop('user_timezone',inplace=True,axis=1)"
      ],
      "execution_count": 0,
      "outputs": []
    },
    {
      "metadata": {
        "id": "_BHEhO8ZktTr",
        "colab_type": "code",
        "colab": {}
      },
      "cell_type": "code",
      "source": [
        "tf.drop('tweet_id',inplace=True,axis=1)\n",
        "tf.drop('airline_sentiment_gold',inplace=True,axis=1)\n",
        "tf.drop('negativereason_gold',inplace=True,axis=1)\n",
        "tf.drop('retweet_count',inplace=True,axis=1)\n",
        "tf.drop('tweet_coord',inplace=True,axis=1)\n",
        "tf.drop('airline',inplace=True,axis=1)\n",
        "tf.drop('name',inplace=True,axis=1)\n",
        "tf.drop('tweet_created',inplace=True,axis=1)\n",
        "tf.drop('tweet_location',inplace=True,axis=1)\n",
        "tf.drop('user_timezone',inplace=True,axis=1)"
      ],
      "execution_count": 0,
      "outputs": []
    },
    {
      "metadata": {
        "id": "ndiZWbt5kxtl",
        "colab_type": "code",
        "colab": {}
      },
      "cell_type": "code",
      "source": [
        "with open(\"tweetscolumn.csv\",\"w\") as out_file:\n",
        "          for i in range(len(tf.text)):\n",
        "      \n",
        "                      out_string= \"\"\n",
        "                      out_string+=str(tf.text[i])\n",
        "                      out_string+=\"\\n\"\n",
        "                      out_file.write(out_string)\n",
        "files.download('tweetscolumn.csv')"
      ],
      "execution_count": 0,
      "outputs": []
    },
    {
      "metadata": {
        "id": "qml1EFQAVSDi",
        "colab_type": "code",
        "colab": {
          "base_uri": "https://localhost:8080/",
          "height": 1882
        },
        "outputId": "f5a84552-d6cd-4c67-fbfa-b1a7eaa084f2"
      },
      "cell_type": "code",
      "source": [
        "tf"
      ],
      "execution_count": 90,
      "outputs": [
        {
          "output_type": "execute_result",
          "data": {
            "text/html": [
              "<div>\n",
              "<style scoped>\n",
              "    .dataframe tbody tr th:only-of-type {\n",
              "        vertical-align: middle;\n",
              "    }\n",
              "\n",
              "    .dataframe tbody tr th {\n",
              "        vertical-align: top;\n",
              "    }\n",
              "\n",
              "    .dataframe thead th {\n",
              "        text-align: right;\n",
              "    }\n",
              "</style>\n",
              "<table border=\"1\" class=\"dataframe\">\n",
              "  <thead>\n",
              "    <tr style=\"text-align: right;\">\n",
              "      <th></th>\n",
              "      <th>text</th>\n",
              "    </tr>\n",
              "  </thead>\n",
              "  <tbody>\n",
              "    <tr>\n",
              "      <th>0</th>\n",
              "      <td>@AmericanAir In car gng to DFW. Pulled over 1h...</td>\n",
              "    </tr>\n",
              "    <tr>\n",
              "      <th>1</th>\n",
              "      <td>@AmericanAir after all, the plane didn’t land ...</td>\n",
              "    </tr>\n",
              "    <tr>\n",
              "      <th>2</th>\n",
              "      <td>@SouthwestAir can't believe how many paying cu...</td>\n",
              "    </tr>\n",
              "    <tr>\n",
              "      <th>3</th>\n",
              "      <td>@USAirways I can legitimately say that I would...</td>\n",
              "    </tr>\n",
              "    <tr>\n",
              "      <th>4</th>\n",
              "      <td>@AmericanAir still no response from AA. great ...</td>\n",
              "    </tr>\n",
              "    <tr>\n",
              "      <th>5</th>\n",
              "      <td>@united we have developers flying down tmrw mo...</td>\n",
              "    </tr>\n",
              "    <tr>\n",
              "      <th>6</th>\n",
              "      <td>@USAirways hello??? Anyone there?</td>\n",
              "    </tr>\n",
              "    <tr>\n",
              "      <th>7</th>\n",
              "      <td>@USAirways @husainhaqqani Mr. Husain u shld pr...</td>\n",
              "    </tr>\n",
              "    <tr>\n",
              "      <th>8</th>\n",
              "      <td>@USAirways not likely, flightaware says plane ...</td>\n",
              "    </tr>\n",
              "    <tr>\n",
              "      <th>9</th>\n",
              "      <td>@AmericanAir they don't even give an option to...</td>\n",
              "    </tr>\n",
              "    <tr>\n",
              "      <th>10</th>\n",
              "      <td>@united your announcement for pre boarding onl...</td>\n",
              "    </tr>\n",
              "    <tr>\n",
              "      <th>11</th>\n",
              "      <td>@USAirways it is really embarrassing when aski...</td>\n",
              "    </tr>\n",
              "    <tr>\n",
              "      <th>12</th>\n",
              "      <td>@SouthwestAir I will not have my passport in t...</td>\n",
              "    </tr>\n",
              "    <tr>\n",
              "      <th>13</th>\n",
              "      <td>@AmericanAir this delayed bag was for my frien...</td>\n",
              "    </tr>\n",
              "    <tr>\n",
              "      <th>14</th>\n",
              "      <td>@SouthwestAir Didn't see travel had to be comp...</td>\n",
              "    </tr>\n",
              "    <tr>\n",
              "      <th>15</th>\n",
              "      <td>@USAirways awesome... Doors close in 2 minutes...</td>\n",
              "    </tr>\n",
              "    <tr>\n",
              "      <th>16</th>\n",
              "      <td>@united I flew United last month and the exper...</td>\n",
              "    </tr>\n",
              "    <tr>\n",
              "      <th>17</th>\n",
              "      <td>@JetBlue Accepting #Apple Pay - Mobile Enterpr...</td>\n",
              "    </tr>\n",
              "    <tr>\n",
              "      <th>18</th>\n",
              "      <td>@united $55 cab ride to dfw from love got me m...</td>\n",
              "    </tr>\n",
              "    <tr>\n",
              "      <th>19</th>\n",
              "      <td>@JetBlue ill call in the morning. too upset ri...</td>\n",
              "    </tr>\n",
              "    <tr>\n",
              "      <th>20</th>\n",
              "      <td>@SouthwestAir @AARP #tfw1 Appreciate the tweet...</td>\n",
              "    </tr>\n",
              "    <tr>\n",
              "      <th>21</th>\n",
              "      <td>@united what's the status of flight 1008 Bogot...</td>\n",
              "    </tr>\n",
              "    <tr>\n",
              "      <th>22</th>\n",
              "      <td>@AmericanAir literally just stopped allowing p...</td>\n",
              "    </tr>\n",
              "    <tr>\n",
              "      <th>23</th>\n",
              "      <td>@AmericanAir I really want to get home. Tonigh...</td>\n",
              "    </tr>\n",
              "    <tr>\n",
              "      <th>24</th>\n",
              "      <td>@USAirways I've been on hold at the reservatio...</td>\n",
              "    </tr>\n",
              "    <tr>\n",
              "      <th>25</th>\n",
              "      <td>@JetBlue Denver-Boston 2/10 flight 994  and Bo...</td>\n",
              "    </tr>\n",
              "    <tr>\n",
              "      <th>26</th>\n",
              "      <td>@AmericanAir nothing to do with Mother Nature,...</td>\n",
              "    </tr>\n",
              "    <tr>\n",
              "      <th>27</th>\n",
              "      <td>@USAirways you would rather a while plane get ...</td>\n",
              "    </tr>\n",
              "    <tr>\n",
              "      <th>28</th>\n",
              "      <td>@JetBlue hi guys, do you have a general enquir...</td>\n",
              "    </tr>\n",
              "    <tr>\n",
              "      <th>29</th>\n",
              "      <td>@united we finally just arrive to Bogota, good...</td>\n",
              "    </tr>\n",
              "    <tr>\n",
              "      <th>...</th>\n",
              "      <td>...</td>\n",
              "    </tr>\n",
              "    <tr>\n",
              "      <th>3630</th>\n",
              "      <td>@USAirways nope not yet...</td>\n",
              "    </tr>\n",
              "    <tr>\n",
              "      <th>3631</th>\n",
              "      <td>@SouthwestAir So far so good! http://t.co/16c9...</td>\n",
              "    </tr>\n",
              "    <tr>\n",
              "      <th>3632</th>\n",
              "      <td>@SouthwestAir @CBSsoxfan you get to hold? call...</td>\n",
              "    </tr>\n",
              "    <tr>\n",
              "      <th>3633</th>\n",
              "      <td>@JetBlue Really!? That's good to hear! Thanks ...</td>\n",
              "    </tr>\n",
              "    <tr>\n",
              "      <th>3634</th>\n",
              "      <td>@JetBlue trying to charge us $550 dollars cash...</td>\n",
              "    </tr>\n",
              "    <tr>\n",
              "      <th>3635</th>\n",
              "      <td>@USAirways can u tell me if 5238 from clt to J...</td>\n",
              "    </tr>\n",
              "    <tr>\n",
              "      <th>3636</th>\n",
              "      <td>@USAirways Your customer service is  non-exist...</td>\n",
              "    </tr>\n",
              "    <tr>\n",
              "      <th>3637</th>\n",
              "      <td>@SouthwestAir Whoa. Thanks and that's what I w...</td>\n",
              "    </tr>\n",
              "    <tr>\n",
              "      <th>3638</th>\n",
              "      <td>@United THANK U! Secured room for the night Th...</td>\n",
              "    </tr>\n",
              "    <tr>\n",
              "      <th>3639</th>\n",
              "      <td>@AmericanAir I'm not sure what happened to my ...</td>\n",
              "    </tr>\n",
              "    <tr>\n",
              "      <th>3640</th>\n",
              "      <td>@AmericanAir pretty bad at #DFW no updates two...</td>\n",
              "    </tr>\n",
              "    <tr>\n",
              "      <th>3641</th>\n",
              "      <td>@USAirways Just contaced EYEWITNESS NEWS about...</td>\n",
              "    </tr>\n",
              "    <tr>\n",
              "      <th>3642</th>\n",
              "      <td>@SouthwestAir thx. Make it right. Help Meagan ...</td>\n",
              "    </tr>\n",
              "    <tr>\n",
              "      <th>3643</th>\n",
              "      <td>@USAirways I didn't Cancelled Flight my flight...</td>\n",
              "    </tr>\n",
              "    <tr>\n",
              "      <th>3644</th>\n",
              "      <td>@united your \"Airserv\" contractors aren't wort...</td>\n",
              "    </tr>\n",
              "    <tr>\n",
              "      <th>3645</th>\n",
              "      <td>@SouthwestAir @taylormdowns We share that valu...</td>\n",
              "    </tr>\n",
              "    <tr>\n",
              "      <th>3646</th>\n",
              "      <td>@USAirways on hold now over 2 hrs on one phone...</td>\n",
              "    </tr>\n",
              "    <tr>\n",
              "      <th>3647</th>\n",
              "      <td>@AmericanAir the flight I'm trying to change i...</td>\n",
              "    </tr>\n",
              "    <tr>\n",
              "      <th>3648</th>\n",
              "      <td>@JetBlue the fact that #ChrisHasMadeUsBLUSH is...</td>\n",
              "    </tr>\n",
              "    <tr>\n",
              "      <th>3649</th>\n",
              "      <td>@united Did somebody say flight upgrade?</td>\n",
              "    </tr>\n",
              "    <tr>\n",
              "      <th>3650</th>\n",
              "      <td>@SouthwestAir how do I get my companion pass?</td>\n",
              "    </tr>\n",
              "    <tr>\n",
              "      <th>3651</th>\n",
              "      <td>@USAirways tells me to talk to @AmericanAir ab...</td>\n",
              "    </tr>\n",
              "    <tr>\n",
              "      <th>3652</th>\n",
              "      <td>@JetBlue you want me to talk to the wall?</td>\n",
              "    </tr>\n",
              "    <tr>\n",
              "      <th>3653</th>\n",
              "      <td>@USAirways Now, the JFK Baggage Office has act...</td>\n",
              "    </tr>\n",
              "    <tr>\n",
              "      <th>3654</th>\n",
              "      <td>@AmericanAir Least you could do would be to re...</td>\n",
              "    </tr>\n",
              "    <tr>\n",
              "      <th>3655</th>\n",
              "      <td>@USAirways Been stuck for 40+ minutes due to l...</td>\n",
              "    </tr>\n",
              "    <tr>\n",
              "      <th>3656</th>\n",
              "      <td>@USAirways 4 hours... 4 hours... FOUR HOURS.  ...</td>\n",
              "    </tr>\n",
              "    <tr>\n",
              "      <th>3657</th>\n",
              "      <td>Nice RT @VirginAmerica: The man of steel might...</td>\n",
              "    </tr>\n",
              "    <tr>\n",
              "      <th>3658</th>\n",
              "      <td>@AmericanAir Aww Thanks AA..DFW was on GMA up ...</td>\n",
              "    </tr>\n",
              "    <tr>\n",
              "      <th>3659</th>\n",
              "      <td>@united the lounge tells us they have no pillo...</td>\n",
              "    </tr>\n",
              "  </tbody>\n",
              "</table>\n",
              "<p>3660 rows × 1 columns</p>\n",
              "</div>"
            ],
            "text/plain": [
              "                                                   text\n",
              "0     @AmericanAir In car gng to DFW. Pulled over 1h...\n",
              "1     @AmericanAir after all, the plane didn’t land ...\n",
              "2     @SouthwestAir can't believe how many paying cu...\n",
              "3     @USAirways I can legitimately say that I would...\n",
              "4     @AmericanAir still no response from AA. great ...\n",
              "5     @united we have developers flying down tmrw mo...\n",
              "6                     @USAirways hello??? Anyone there?\n",
              "7     @USAirways @husainhaqqani Mr. Husain u shld pr...\n",
              "8     @USAirways not likely, flightaware says plane ...\n",
              "9     @AmericanAir they don't even give an option to...\n",
              "10    @united your announcement for pre boarding onl...\n",
              "11    @USAirways it is really embarrassing when aski...\n",
              "12    @SouthwestAir I will not have my passport in t...\n",
              "13    @AmericanAir this delayed bag was for my frien...\n",
              "14    @SouthwestAir Didn't see travel had to be comp...\n",
              "15    @USAirways awesome... Doors close in 2 minutes...\n",
              "16    @united I flew United last month and the exper...\n",
              "17    @JetBlue Accepting #Apple Pay - Mobile Enterpr...\n",
              "18    @united $55 cab ride to dfw from love got me m...\n",
              "19    @JetBlue ill call in the morning. too upset ri...\n",
              "20    @SouthwestAir @AARP #tfw1 Appreciate the tweet...\n",
              "21    @united what's the status of flight 1008 Bogot...\n",
              "22    @AmericanAir literally just stopped allowing p...\n",
              "23    @AmericanAir I really want to get home. Tonigh...\n",
              "24    @USAirways I've been on hold at the reservatio...\n",
              "25    @JetBlue Denver-Boston 2/10 flight 994  and Bo...\n",
              "26    @AmericanAir nothing to do with Mother Nature,...\n",
              "27    @USAirways you would rather a while plane get ...\n",
              "28    @JetBlue hi guys, do you have a general enquir...\n",
              "29    @united we finally just arrive to Bogota, good...\n",
              "...                                                 ...\n",
              "3630                         @USAirways nope not yet...\n",
              "3631  @SouthwestAir So far so good! http://t.co/16c9...\n",
              "3632  @SouthwestAir @CBSsoxfan you get to hold? call...\n",
              "3633  @JetBlue Really!? That's good to hear! Thanks ...\n",
              "3634  @JetBlue trying to charge us $550 dollars cash...\n",
              "3635  @USAirways can u tell me if 5238 from clt to J...\n",
              "3636  @USAirways Your customer service is  non-exist...\n",
              "3637  @SouthwestAir Whoa. Thanks and that's what I w...\n",
              "3638  @United THANK U! Secured room for the night Th...\n",
              "3639  @AmericanAir I'm not sure what happened to my ...\n",
              "3640  @AmericanAir pretty bad at #DFW no updates two...\n",
              "3641  @USAirways Just contaced EYEWITNESS NEWS about...\n",
              "3642  @SouthwestAir thx. Make it right. Help Meagan ...\n",
              "3643  @USAirways I didn't Cancelled Flight my flight...\n",
              "3644  @united your \"Airserv\" contractors aren't wort...\n",
              "3645  @SouthwestAir @taylormdowns We share that valu...\n",
              "3646  @USAirways on hold now over 2 hrs on one phone...\n",
              "3647  @AmericanAir the flight I'm trying to change i...\n",
              "3648  @JetBlue the fact that #ChrisHasMadeUsBLUSH is...\n",
              "3649           @united Did somebody say flight upgrade?\n",
              "3650      @SouthwestAir how do I get my companion pass?\n",
              "3651  @USAirways tells me to talk to @AmericanAir ab...\n",
              "3652          @JetBlue you want me to talk to the wall?\n",
              "3653  @USAirways Now, the JFK Baggage Office has act...\n",
              "3654  @AmericanAir Least you could do would be to re...\n",
              "3655  @USAirways Been stuck for 40+ minutes due to l...\n",
              "3656  @USAirways 4 hours... 4 hours... FOUR HOURS.  ...\n",
              "3657  Nice RT @VirginAmerica: The man of steel might...\n",
              "3658  @AmericanAir Aww Thanks AA..DFW was on GMA up ...\n",
              "3659  @united the lounge tells us they have no pillo...\n",
              "\n",
              "[3660 rows x 1 columns]"
            ]
          },
          "metadata": {
            "tags": []
          },
          "execution_count": 90
        }
      ]
    },
    {
      "metadata": {
        "id": "Z7LGcJULlxay",
        "colab_type": "code",
        "colab": {
          "base_uri": "https://localhost:8080/",
          "height": 67
        },
        "outputId": "3f0c1dda-a237-4226-c92d-d00542a368dd"
      },
      "cell_type": "code",
      "source": [
        "from nltk.tokenize import word_tokenize\n",
        "import nltk\n",
        "nltk.download('punkt')"
      ],
      "execution_count": 55,
      "outputs": [
        {
          "output_type": "stream",
          "text": [
            "[nltk_data] Downloading package punkt to /root/nltk_data...\n",
            "[nltk_data]   Package punkt is already up-to-date!\n"
          ],
          "name": "stdout"
        },
        {
          "output_type": "execute_result",
          "data": {
            "text/plain": [
              "True"
            ]
          },
          "metadata": {
            "tags": []
          },
          "execution_count": 55
        }
      ]
    },
    {
      "metadata": {
        "id": "X5W_L8UVlziH",
        "colab_type": "code",
        "colab": {
          "base_uri": "https://localhost:8080/",
          "height": 50
        },
        "outputId": "3b3dc56f-b695-4b66-8152-2d3082e5cf58"
      },
      "cell_type": "code",
      "source": [
        "print(data.shape)\n",
        "print(tf.shape)"
      ],
      "execution_count": 56,
      "outputs": [
        {
          "output_type": "stream",
          "text": [
            "(10980, 2)\n",
            "(3660, 1)\n"
          ],
          "name": "stdout"
        }
      ]
    },
    {
      "metadata": {
        "id": "03i_KudFl4sR",
        "colab_type": "code",
        "colab": {}
      },
      "cell_type": "code",
      "source": [
        "w=[]\n",
        "for i in range(data.shape[0]):\n",
        "  w.append([])\n",
        "  words=word_tokenize(data.iloc[i,1])\n",
        "  w[i].append(words)"
      ],
      "execution_count": 0,
      "outputs": []
    },
    {
      "metadata": {
        "id": "rrXD0pUks1Kr",
        "colab_type": "code",
        "colab": {}
      },
      "cell_type": "code",
      "source": [
        "wrd=[]\n",
        "for i in range(data.shape[0]):\n",
        "  wrd.append(w[i][0])"
      ],
      "execution_count": 0,
      "outputs": []
    },
    {
      "metadata": {
        "id": "DKq6Al7is_tC",
        "colab_type": "code",
        "colab": {
          "base_uri": "https://localhost:8080/",
          "height": 34
        },
        "outputId": "bd7c400a-66bb-4115-b9f0-2c2ffd04b683"
      },
      "cell_type": "code",
      "source": [
        "len(wrd)"
      ],
      "execution_count": 59,
      "outputs": [
        {
          "output_type": "execute_result",
          "data": {
            "text/plain": [
              "10980"
            ]
          },
          "metadata": {
            "tags": []
          },
          "execution_count": 59
        }
      ]
    },
    {
      "metadata": {
        "id": "R4tQ3xtjtB8g",
        "colab_type": "code",
        "colab": {}
      },
      "cell_type": "code",
      "source": [
        "doc=[]\n",
        "i=0\n",
        "for ctry in data.airline_sentiment\t:\n",
        "    doc.append((wrd[i],ctry))\n",
        "    i=i+1"
      ],
      "execution_count": 0,
      "outputs": []
    },
    {
      "metadata": {
        "id": "_0SSoJ7wtGCW",
        "colab_type": "code",
        "colab": {
          "base_uri": "https://localhost:8080/",
          "height": 34
        },
        "outputId": "18ff160c-9874-414c-e1ad-7c66486d74fa"
      },
      "cell_type": "code",
      "source": [
        "len(doc)"
      ],
      "execution_count": 61,
      "outputs": [
        {
          "output_type": "execute_result",
          "data": {
            "text/plain": [
              "10980"
            ]
          },
          "metadata": {
            "tags": []
          },
          "execution_count": 61
        }
      ]
    },
    {
      "metadata": {
        "id": "5jO7rZpktN_F",
        "colab_type": "code",
        "colab": {}
      },
      "cell_type": "code",
      "source": [
        "with open(\"words.csv\",\"w\") as out_file:\n",
        "          for i in range(len(doc)):\n",
        "      \n",
        "                      out_string= \"\"\n",
        "                      out_string+=str(doc[i])\n",
        "                      out_string+=\"\\n\"\n",
        "                      out_file.write(out_string)\n",
        "files.download('words.csv')"
      ],
      "execution_count": 0,
      "outputs": []
    },
    {
      "metadata": {
        "id": "I08BDlhCt2a2",
        "colab_type": "code",
        "colab": {}
      },
      "cell_type": "code",
      "source": [
        "from nltk.corpus import stopwords"
      ],
      "execution_count": 0,
      "outputs": []
    },
    {
      "metadata": {
        "id": "db6_Zunat6pj",
        "colab_type": "code",
        "colab": {
          "base_uri": "https://localhost:8080/",
          "height": 84
        },
        "outputId": "09c65673-16fc-4b09-bc1b-c162bbebf880"
      },
      "cell_type": "code",
      "source": [
        "import nltk\n",
        "nltk.download('stopwords')\n",
        "  \n",
        "import string\n",
        "stop=set(stopwords.words('english'))\n",
        "puc=list(string.punctuation)\n",
        "print(len(stop))\n",
        "stop.update(puc)\n",
        "len(stop)"
      ],
      "execution_count": 64,
      "outputs": [
        {
          "output_type": "stream",
          "text": [
            "[nltk_data] Downloading package stopwords to /root/nltk_data...\n",
            "[nltk_data]   Package stopwords is already up-to-date!\n",
            "179\n"
          ],
          "name": "stdout"
        },
        {
          "output_type": "execute_result",
          "data": {
            "text/plain": [
              "211"
            ]
          },
          "metadata": {
            "tags": []
          },
          "execution_count": 64
        }
      ]
    },
    {
      "metadata": {
        "id": "igyDAL0uuANU",
        "colab_type": "code",
        "colab": {
          "base_uri": "https://localhost:8080/",
          "height": 118
        },
        "outputId": "12977567-77a6-4e38-cba8-ac06ac639596"
      },
      "cell_type": "code",
      "source": [
        "import nltk\n",
        "nltk.download('averaged_perceptron_tagger')\n",
        "import nltk\n",
        "nltk.download('wordnet')\n",
        "from nltk.stem import WordNetLemmatizer\n",
        "lemmatizer=WordNetLemmatizer()"
      ],
      "execution_count": 65,
      "outputs": [
        {
          "output_type": "stream",
          "text": [
            "[nltk_data] Downloading package averaged_perceptron_tagger to\n",
            "[nltk_data]     /root/nltk_data...\n",
            "[nltk_data]   Package averaged_perceptron_tagger is already up-to-\n",
            "[nltk_data]       date!\n",
            "[nltk_data] Downloading package wordnet to /root/nltk_data...\n",
            "[nltk_data]   Package wordnet is already up-to-date!\n"
          ],
          "name": "stdout"
        }
      ]
    },
    {
      "metadata": {
        "id": "GzLuTHOnuFt-",
        "colab_type": "code",
        "colab": {}
      },
      "cell_type": "code",
      "source": [
        "from nltk.corpus import wordnet\n",
        "from nltk import pos_tag\n",
        "def get_simple_pos(tag):\n",
        "  if tag.startswith('J'):\n",
        "    return wordnet.ADJ\n",
        "  elif tag.startswith('V'):\n",
        "    return wordnet.VERB\n",
        "  elif tag.startswith('N'):\n",
        "    return wordnet.NOUN\n",
        "  elif tag.startswith('J'):\n",
        "    return wordnet.ADJ\n",
        "  else:\n",
        "    return wordnet.NOUN"
      ],
      "execution_count": 0,
      "outputs": []
    },
    {
      "metadata": {
        "id": "XvOZQeIPuHjr",
        "colab_type": "code",
        "colab": {}
      },
      "cell_type": "code",
      "source": [
        "def clean_tweet(words):\n",
        "  output_words=[]\n",
        "  for w in words:\n",
        "    if w.lower() not in stop:\n",
        "      pos=pos_tag([w])\n",
        "      clean=lemmatizer.lemmatize(w,pos=get_simple_pos(pos[0][1]))\n",
        "      output_words.append(clean.lower())\n",
        "  return output_words"
      ],
      "execution_count": 0,
      "outputs": []
    },
    {
      "metadata": {
        "id": "_amrkmwOuMyD",
        "colab_type": "code",
        "colab": {}
      },
      "cell_type": "code",
      "source": [
        "document=[(clean_tweet(document),cat) for document,cat in doc]"
      ],
      "execution_count": 0,
      "outputs": []
    },
    {
      "metadata": {
        "id": "-aLEYD9xu6c7",
        "colab_type": "code",
        "colab": {}
      },
      "cell_type": "code",
      "source": [
        "with open(\"cleanwords.csv\",\"w\") as out_file:\n",
        "          for i in range(len(document)):\n",
        "      \n",
        "                      out_string= \"\"\n",
        "                      out_string+=str(document[i])\n",
        "                      out_string+=\"\\n\"\n",
        "                      out_file.write(out_string)\n",
        "files.download('cleanwords.csv')"
      ],
      "execution_count": 0,
      "outputs": []
    },
    {
      "metadata": {
        "id": "IoNJdQSbvcKE",
        "colab_type": "code",
        "colab": {}
      },
      "cell_type": "code",
      "source": [
        "doc_train=doc"
      ],
      "execution_count": 0,
      "outputs": []
    },
    {
      "metadata": {
        "id": "ZtjebBXGvkSt",
        "colab_type": "code",
        "colab": {}
      },
      "cell_type": "code",
      "source": [
        "all_words=[]\n",
        "for doc in doc_train:\n",
        "  all_words+=doc[0]"
      ],
      "execution_count": 0,
      "outputs": []
    },
    {
      "metadata": {
        "id": "kf5mr0vjvrNC",
        "colab_type": "code",
        "colab": {
          "base_uri": "https://localhost:8080/",
          "height": 34
        },
        "outputId": "133f8e7c-93a0-4d17-f635-2ab13317a501"
      },
      "cell_type": "code",
      "source": [
        "len(all_words)"
      ],
      "execution_count": 72,
      "outputs": [
        {
          "output_type": "execute_result",
          "data": {
            "text/plain": [
              "241027"
            ]
          },
          "metadata": {
            "tags": []
          },
          "execution_count": 72
        }
      ]
    },
    {
      "metadata": {
        "id": "wb6DfkJPvumD",
        "colab_type": "code",
        "colab": {}
      },
      "cell_type": "code",
      "source": [
        "import nltk\n",
        "freq=nltk.FreqDist(all_words)\n",
        "common=freq.most_common(8000)"
      ],
      "execution_count": 0,
      "outputs": []
    },
    {
      "metadata": {
        "id": "BxK8R844v1hJ",
        "colab_type": "code",
        "colab": {
          "base_uri": "https://localhost:8080/",
          "height": 34
        },
        "outputId": "debf8251-61ff-4936-c0a5-9644534d76de"
      },
      "cell_type": "code",
      "source": [
        "len(common)"
      ],
      "execution_count": 74,
      "outputs": [
        {
          "output_type": "execute_result",
          "data": {
            "text/plain": [
              "8000"
            ]
          },
          "metadata": {
            "tags": []
          },
          "execution_count": 74
        }
      ]
    },
    {
      "metadata": {
        "id": "HqInQFe6v452",
        "colab_type": "code",
        "colab": {}
      },
      "cell_type": "code",
      "source": [
        "feature=[i[0] for i in common]"
      ],
      "execution_count": 0,
      "outputs": []
    },
    {
      "metadata": {
        "id": "o2NkUO_Qv8cA",
        "colab_type": "code",
        "colab": {}
      },
      "cell_type": "code",
      "source": [
        "with open(\"featuredwords.csv\",\"w\") as out_file:\n",
        "          for i in range(len(feature)):\n",
        "      \n",
        "                      out_string= \"\"\n",
        "                      out_string+=str(feature[i])\n",
        "                      \n",
        "                      out_string+=\",\"\n",
        "                      out_file.write(out_string)\n",
        "files.download('featuredwords.csv')"
      ],
      "execution_count": 0,
      "outputs": []
    },
    {
      "metadata": {
        "id": "a7u69WQ0xCN6",
        "colab_type": "code",
        "colab": {}
      },
      "cell_type": "code",
      "source": [
        "def get_feature_dict(words):\n",
        "  current_feature={}\n",
        "  w_set=set(words)\n",
        "  for w in feature:\n",
        "    current_feature[w]=w in w_set\n",
        "  return current_feature"
      ],
      "execution_count": 0,
      "outputs": []
    },
    {
      "metadata": {
        "id": "tXSMBMBVxECU",
        "colab_type": "code",
        "colab": {}
      },
      "cell_type": "code",
      "source": [
        "training_data=[(get_feature_dict(doc),cat) for doc,cat in doc_train]"
      ],
      "execution_count": 0,
      "outputs": []
    },
    {
      "metadata": {
        "id": "U3Xz1n03y19J",
        "colab_type": "code",
        "colab": {
          "base_uri": "https://localhost:8080/",
          "height": 437
        },
        "outputId": "c5dc344d-ccd7-461e-af2f-a8d05a2fd570"
      },
      "cell_type": "code",
      "source": [
        "with open(\"training.csv\",\"w\") as out_file:\n",
        "          for i in range(len(training_data)):\n",
        "      \n",
        "                      out_string= \"\"\n",
        "                      out_string+=str(training_data[i])\n",
        "                      \n",
        "                      out_string+=\"\\n\"\n",
        "                      out_file.write(out_string)\n",
        "files.download('training.csv')"
      ],
      "execution_count": 79,
      "outputs": [
        {
          "output_type": "stream",
          "text": [
            "----------------------------------------\n",
            "Exception happened during processing of request from ('::ffff:127.0.0.1', 58360, 0, 0)\n",
            "Traceback (most recent call last):\n",
            "  File \"/usr/lib/python3.6/socketserver.py\", line 317, in _handle_request_noblock\n",
            "    self.process_request(request, client_address)\n",
            "  File \"/usr/lib/python3.6/socketserver.py\", line 348, in process_request\n",
            "    self.finish_request(request, client_address)\n",
            "  File \"/usr/lib/python3.6/socketserver.py\", line 361, in finish_request\n",
            "    self.RequestHandlerClass(request, client_address, self)\n",
            "  File \"/usr/lib/python3.6/socketserver.py\", line 721, in __init__\n",
            "    self.handle()\n",
            "  File \"/usr/lib/python3.6/http/server.py\", line 418, in handle\n",
            "    self.handle_one_request()\n",
            "  File \"/usr/lib/python3.6/http/server.py\", line 406, in handle_one_request\n",
            "    method()\n",
            "  File \"/usr/lib/python3.6/http/server.py\", line 639, in do_GET\n",
            "    self.copyfile(f, self.wfile)\n",
            "  File \"/usr/lib/python3.6/http/server.py\", line 800, in copyfile\n",
            "    shutil.copyfileobj(source, outputfile)\n",
            "  File \"/usr/lib/python3.6/shutil.py\", line 82, in copyfileobj\n",
            "    fdst.write(buf)\n",
            "  File \"/usr/lib/python3.6/socketserver.py\", line 800, in write\n",
            "    self._sock.sendall(b)\n",
            "ConnectionResetError: [Errno 104] Connection reset by peer\n",
            "----------------------------------------\n"
          ],
          "name": "stderr"
        }
      ]
    },
    {
      "metadata": {
        "id": "IViMf1Jz3Eus",
        "colab_type": "code",
        "colab": {}
      },
      "cell_type": "code",
      "source": [
        "from sklearn.feature_extraction.text import CountVectorizer\n",
        "cat=[cat for docu,cat in document]\n",
        "text_doc=[\" \".join(docu) for docu,cat in document ]"
      ],
      "execution_count": 0,
      "outputs": []
    },
    {
      "metadata": {
        "id": "Y1oT5NclTOUT",
        "colab_type": "code",
        "colab": {
          "base_uri": "https://localhost:8080/",
          "height": 134
        },
        "outputId": "95c8a933-db96-4830-81fc-066cb99fd4aa"
      },
      "cell_type": "code",
      "source": [
        "count_vec=CountVectorizer(max_features=5000)\n",
        "a=count_vec.fit_transform(text_doc)\n",
        "a.todense()"
      ],
      "execution_count": 82,
      "outputs": [
        {
          "output_type": "execute_result",
          "data": {
            "text/plain": [
              "matrix([[0, 0, 0, ..., 0, 0, 0],\n",
              "        [0, 0, 0, ..., 0, 0, 0],\n",
              "        [0, 0, 0, ..., 0, 0, 0],\n",
              "        ...,\n",
              "        [0, 0, 0, ..., 0, 0, 0],\n",
              "        [0, 0, 0, ..., 0, 0, 0],\n",
              "        [0, 0, 0, ..., 0, 0, 0]], dtype=int64)"
            ]
          },
          "metadata": {
            "tags": []
          },
          "execution_count": 82
        }
      ]
    },
    {
      "metadata": {
        "id": "7MyEdi0WTZuS",
        "colab_type": "code",
        "colab": {
          "base_uri": "https://localhost:8080/",
          "height": 16834
        },
        "outputId": "6e2edf67-7e85-4e47-fce5-4d83d0da7a88"
      },
      "cell_type": "code",
      "source": [
        "count_vec.get_feature_names()"
      ],
      "execution_count": 83,
      "outputs": [
        {
          "output_type": "execute_result",
          "data": {
            "text/plain": [
              "['00',\n",
              " '000',\n",
              " '0016',\n",
              " '00pm',\n",
              " '02',\n",
              " '03',\n",
              " '05',\n",
              " '05am',\n",
              " '05pm',\n",
              " '08',\n",
              " '10',\n",
              " '100',\n",
              " '1000',\n",
              " '1007',\n",
              " '101',\n",
              " '1027',\n",
              " '103',\n",
              " '1041',\n",
              " '105',\n",
              " '1051',\n",
              " '1071',\n",
              " '1080',\n",
              " '1098',\n",
              " '10a',\n",
              " '10am',\n",
              " '10hrs',\n",
              " '10mins',\n",
              " '10pm',\n",
              " '10th',\n",
              " '11',\n",
              " '117',\n",
              " '1171',\n",
              " '118',\n",
              " '11a',\n",
              " '11am',\n",
              " '11pm',\n",
              " '11th',\n",
              " '12',\n",
              " '120',\n",
              " '1200',\n",
              " '1230',\n",
              " '1242',\n",
              " '1254',\n",
              " '12am',\n",
              " '12b',\n",
              " '13',\n",
              " '130',\n",
              " '1357',\n",
              " '1359',\n",
              " '136',\n",
              " '1388',\n",
              " '1389',\n",
              " '13th',\n",
              " '14',\n",
              " '140',\n",
              " '1472',\n",
              " '1491',\n",
              " '15',\n",
              " '150',\n",
              " '1500',\n",
              " '1503',\n",
              " '1514',\n",
              " '152',\n",
              " '1531',\n",
              " '1533',\n",
              " '1535',\n",
              " '1547',\n",
              " '1562',\n",
              " '1583',\n",
              " '15minutes',\n",
              " '15th',\n",
              " '16',\n",
              " '1625',\n",
              " '1644',\n",
              " '1657',\n",
              " '1679',\n",
              " '17',\n",
              " '1700',\n",
              " '1701',\n",
              " '1706',\n",
              " '1715',\n",
              " '174',\n",
              " '1750',\n",
              " '17th',\n",
              " '18',\n",
              " '180',\n",
              " '1800',\n",
              " '1808',\n",
              " '1826',\n",
              " '1861',\n",
              " '188',\n",
              " '1898',\n",
              " '19',\n",
              " '190',\n",
              " '1917',\n",
              " '195',\n",
              " '1970',\n",
              " '1971',\n",
              " '1997',\n",
              " '1am',\n",
              " '1hr',\n",
              " '1k',\n",
              " '1pm',\n",
              " '1st',\n",
              " '1way',\n",
              " '20',\n",
              " '200',\n",
              " '2000',\n",
              " '2012',\n",
              " '2014',\n",
              " '2015',\n",
              " '2016',\n",
              " '2034',\n",
              " '20l',\n",
              " '20min',\n",
              " '20pm',\n",
              " '21',\n",
              " '2168',\n",
              " '21st',\n",
              " '22',\n",
              " '2222',\n",
              " '2258',\n",
              " '23',\n",
              " '2324',\n",
              " '2396',\n",
              " '23rd',\n",
              " '24',\n",
              " '2401',\n",
              " '2470',\n",
              " '249',\n",
              " '24h',\n",
              " '24hr',\n",
              " '24hrs',\n",
              " '24th',\n",
              " '25',\n",
              " '250',\n",
              " '2586',\n",
              " '25th',\n",
              " '26',\n",
              " '2692',\n",
              " '27',\n",
              " '275',\n",
              " '27l',\n",
              " '28',\n",
              " '28th',\n",
              " '29',\n",
              " '2955',\n",
              " '2990176298',\n",
              " '2am',\n",
              " '2b',\n",
              " '2bestfriends',\n",
              " '2d',\n",
              " '2day',\n",
              " '2days',\n",
              " '2hours',\n",
              " '2hr',\n",
              " '2hrs',\n",
              " '2littlebirds',\n",
              " '2morrow',\n",
              " '2nd',\n",
              " '2nite',\n",
              " '2pm',\n",
              " '2x',\n",
              " '2xdaily',\n",
              " '2y',\n",
              " '30',\n",
              " '300',\n",
              " '3001885409',\n",
              " '304',\n",
              " '3056',\n",
              " '30a',\n",
              " '30am',\n",
              " '30k',\n",
              " '30min',\n",
              " '30mins',\n",
              " '30pm',\n",
              " '30th',\n",
              " '31',\n",
              " '310',\n",
              " '3104',\n",
              " '3130',\n",
              " '32',\n",
              " '320008a',\n",
              " '33',\n",
              " '336',\n",
              " '34',\n",
              " '35',\n",
              " '350',\n",
              " '35pm',\n",
              " '35x',\n",
              " '36',\n",
              " '360',\n",
              " '362',\n",
              " '3659',\n",
              " '37',\n",
              " '3739',\n",
              " '3750',\n",
              " '382',\n",
              " '386',\n",
              " '39',\n",
              " '3am',\n",
              " '3d',\n",
              " '3days',\n",
              " '3fq3xelbon',\n",
              " '3hrs',\n",
              " '3pm',\n",
              " '3rd',\n",
              " '3thparty',\n",
              " '3x',\n",
              " '3yr',\n",
              " '40',\n",
              " '400',\n",
              " '400er',\n",
              " '403',\n",
              " '404',\n",
              " '40min',\n",
              " '40mins',\n",
              " '40pm',\n",
              " '40th',\n",
              " '413',\n",
              " '4146',\n",
              " '415',\n",
              " '41g',\n",
              " '42',\n",
              " '424',\n",
              " '428',\n",
              " '4322',\n",
              " '433',\n",
              " '435',\n",
              " '44',\n",
              " '440',\n",
              " '4420',\n",
              " '4435',\n",
              " '4438',\n",
              " '4443',\n",
              " '445',\n",
              " '4487',\n",
              " '45',\n",
              " '450',\n",
              " '4524',\n",
              " '454',\n",
              " '4567',\n",
              " '45am',\n",
              " '45min',\n",
              " '45mins',\n",
              " '45pm',\n",
              " '46',\n",
              " '462',\n",
              " '4649',\n",
              " '4663',\n",
              " '47',\n",
              " '475',\n",
              " '48',\n",
              " '4840',\n",
              " '49',\n",
              " '494',\n",
              " '4am',\n",
              " '4hr',\n",
              " '4hrs',\n",
              " '4ojrsdwpkk',\n",
              " '4pm',\n",
              " '4th',\n",
              " '4ward',\n",
              " '4x',\n",
              " '50',\n",
              " '500',\n",
              " '501',\n",
              " '5015',\n",
              " '5080',\n",
              " '50am',\n",
              " '50k',\n",
              " '50pm',\n",
              " '51',\n",
              " '52',\n",
              " '53',\n",
              " '530',\n",
              " '5350',\n",
              " '55',\n",
              " '5534',\n",
              " '556',\n",
              " '55am',\n",
              " '55pm',\n",
              " '56',\n",
              " '561',\n",
              " '58',\n",
              " '59',\n",
              " '5957',\n",
              " '597',\n",
              " '599',\n",
              " '5am',\n",
              " '5hr',\n",
              " '5hrs',\n",
              " '5pm',\n",
              " '5th',\n",
              " '60',\n",
              " '600',\n",
              " '606',\n",
              " '619',\n",
              " '62',\n",
              " '622',\n",
              " '623',\n",
              " '630',\n",
              " '636',\n",
              " '6373',\n",
              " '639',\n",
              " '645',\n",
              " '64gb',\n",
              " '65',\n",
              " '653',\n",
              " '654',\n",
              " '669',\n",
              " '672',\n",
              " '68',\n",
              " '683',\n",
              " '686',\n",
              " '699',\n",
              " '6am',\n",
              " '6hrs',\n",
              " '6pm',\n",
              " '6th',\n",
              " '70',\n",
              " '700',\n",
              " '703',\n",
              " '719',\n",
              " '72',\n",
              " '723',\n",
              " '728',\n",
              " '72rmpkogwu',\n",
              " '73',\n",
              " '7300',\n",
              " '737',\n",
              " '738',\n",
              " '7403607771',\n",
              " '746',\n",
              " '747',\n",
              " '75',\n",
              " '750',\n",
              " '757',\n",
              " '767',\n",
              " '768',\n",
              " '7700',\n",
              " '777',\n",
              " '787',\n",
              " '788',\n",
              " '79',\n",
              " '795',\n",
              " '799',\n",
              " '7am',\n",
              " '7d',\n",
              " '7pm',\n",
              " '7t1rdrcre6',\n",
              " '7th',\n",
              " '80',\n",
              " '800',\n",
              " '805',\n",
              " '80th',\n",
              " '810',\n",
              " '830',\n",
              " '834',\n",
              " '837',\n",
              " '85832',\n",
              " '86',\n",
              " '883',\n",
              " '894',\n",
              " '8am',\n",
              " '8aug',\n",
              " '8b',\n",
              " '8h',\n",
              " '8hr',\n",
              " '8hrs',\n",
              " '8pm',\n",
              " '8th',\n",
              " '8wbzorrn3c',\n",
              " '90',\n",
              " '900',\n",
              " '915',\n",
              " '917',\n",
              " '919',\n",
              " '95',\n",
              " '952',\n",
              " '953',\n",
              " '989',\n",
              " '99',\n",
              " '9am',\n",
              " '9pm',\n",
              " 'a1',\n",
              " 'a320',\n",
              " 'a321',\n",
              " 'aa',\n",
              " 'aa106',\n",
              " 'aa199',\n",
              " 'aa2444',\n",
              " 'aa4285',\n",
              " 'aa65',\n",
              " 'aa76',\n",
              " 'aa953',\n",
              " 'aadvantage',\n",
              " 'aafail',\n",
              " 'aarp',\n",
              " 'abandon',\n",
              " 'abc',\n",
              " 'ability',\n",
              " 'able',\n",
              " 'aboard',\n",
              " 'abq',\n",
              " 'absolute',\n",
              " 'absolutely',\n",
              " 'absurd',\n",
              " 'abt',\n",
              " 'abuse',\n",
              " 'abysmal',\n",
              " 'ac',\n",
              " 'accept',\n",
              " 'acceptable',\n",
              " 'accepted',\n",
              " 'access',\n",
              " 'accident',\n",
              " 'accidentally',\n",
              " 'accommodate',\n",
              " 'accommodation',\n",
              " 'accomplish',\n",
              " 'accord',\n",
              " 'according',\n",
              " 'accordingly',\n",
              " 'account',\n",
              " 'accountability',\n",
              " 'acct',\n",
              " 'accts',\n",
              " 'accurate',\n",
              " 'accuse',\n",
              " 'acknowledge',\n",
              " 'acknowledgment',\n",
              " 'across',\n",
              " 'act',\n",
              " 'action',\n",
              " 'actions',\n",
              " 'activate',\n",
              " 'active',\n",
              " 'activities',\n",
              " 'activity',\n",
              " 'actual',\n",
              " 'actually',\n",
              " 'ad',\n",
              " 'add',\n",
              " 'adding',\n",
              " 'addition',\n",
              " 'additional',\n",
              " 'address',\n",
              " 'adds',\n",
              " 'addtl',\n",
              " 'adjacent',\n",
              " 'adjustment',\n",
              " 'admiral',\n",
              " 'admirals',\n",
              " 'admit',\n",
              " 'adopt',\n",
              " 'adore',\n",
              " 'advance',\n",
              " 'advantage',\n",
              " 'advertise',\n",
              " 'advertising',\n",
              " 'advice',\n",
              " 'advise',\n",
              " 'advisory',\n",
              " 'aerojobmarket',\n",
              " 'affect',\n",
              " 'affected',\n",
              " 'affiliate',\n",
              " 'afford',\n",
              " 'affordable',\n",
              " 'afraid',\n",
              " 'after',\n",
              " 'afterall',\n",
              " 'afternoon',\n",
              " 'again',\n",
              " 'age',\n",
              " 'agency',\n",
              " 'agent',\n",
              " 'agents',\n",
              " 'aggravate',\n",
              " 'aggressive',\n",
              " 'agnt',\n",
              " 'ago',\n",
              " 'agree',\n",
              " 'agt',\n",
              " 'ah',\n",
              " 'ahead',\n",
              " 'ahhhh',\n",
              " 'ahold',\n",
              " 'ai',\n",
              " 'aim',\n",
              " 'air',\n",
              " 'airbus',\n",
              " 'aircanada',\n",
              " 'aircraft',\n",
              " 'airfare',\n",
              " 'airline',\n",
              " 'airlinegeeks',\n",
              " 'airlines',\n",
              " 'airplane',\n",
              " 'airport',\n",
              " 'airway',\n",
              " 'airways',\n",
              " 'aisle',\n",
              " 'aka',\n",
              " 'alaska',\n",
              " 'albany',\n",
              " 'albuquerque',\n",
              " 'alert',\n",
              " 'alex',\n",
              " 'ali',\n",
              " 'alive',\n",
              " 'all',\n",
              " 'allende',\n",
              " 'allergic',\n",
              " 'allergy',\n",
              " 'alleviate',\n",
              " 'alliance',\n",
              " 'allow',\n",
              " 'allowance',\n",
              " 'allows',\n",
              " 'almost',\n",
              " 'alone',\n",
              " 'along',\n",
              " 'alot',\n",
              " 'already',\n",
              " 'alright',\n",
              " 'also',\n",
              " 'alternate',\n",
              " 'alternative',\n",
              " 'although',\n",
              " 'altitude',\n",
              " 'always',\n",
              " 'alwayslate',\n",
              " 'am',\n",
              " 'amateur',\n",
              " 'amaze',\n",
              " 'amazing',\n",
              " 'amazingly',\n",
              " 'america',\n",
              " 'american',\n",
              " 'americanair',\n",
              " 'americanairlines',\n",
              " 'americanview',\n",
              " 'amex',\n",
              " 'amm',\n",
              " 'among',\n",
              " 'amongst',\n",
              " 'amount',\n",
              " 'amp',\n",
              " 'amybruni',\n",
              " 'ana',\n",
              " 'anamarketers',\n",
              " 'and',\n",
              " 'andrew',\n",
              " 'andrew_wasila',\n",
              " 'andrews',\n",
              " 'aneqxzr4bp',\n",
              " 'angel',\n",
              " 'angeles',\n",
              " 'angry',\n",
              " 'ann',\n",
              " 'annettenaif',\n",
              " 'anniversary',\n",
              " 'announce',\n",
              " 'announcement',\n",
              " 'announces',\n",
              " 'annoy',\n",
              " 'annoyed',\n",
              " 'annricord',\n",
              " 'annual',\n",
              " 'another',\n",
              " 'answer',\n",
              " 'answering',\n",
              " 'answerthephone',\n",
              " 'anthony',\n",
              " 'anticipate',\n",
              " 'antonio',\n",
              " 'anxiety',\n",
              " 'anxious',\n",
              " 'any',\n",
              " 'any1',\n",
              " 'anybody',\n",
              " 'anymore',\n",
              " 'anyone',\n",
              " 'anything',\n",
              " 'anytime',\n",
              " 'anyway',\n",
              " 'anywhere',\n",
              " 'apart',\n",
              " 'apologise',\n",
              " 'apologize',\n",
              " 'apologizes',\n",
              " 'apology',\n",
              " 'app',\n",
              " 'appalled',\n",
              " 'apparent',\n",
              " 'apparently',\n",
              " 'appear',\n",
              " 'appears',\n",
              " 'appease',\n",
              " 'applaud',\n",
              " 'apple',\n",
              " 'application',\n",
              " 'apply',\n",
              " 'appointment',\n",
              " 'appreciate',\n",
              " 'appreciated',\n",
              " 'appreciates',\n",
              " 'appreciation',\n",
              " 'approach',\n",
              " 'appropriate',\n",
              " 'approval',\n",
              " 'approve',\n",
              " 'approx',\n",
              " 'apps',\n",
              " 'april',\n",
              " 'apt',\n",
              " 'aqjn4hwnac',\n",
              " 'arbitrary',\n",
              " 'ardent',\n",
              " 'are',\n",
              " 'area',\n",
              " 'argue',\n",
              " 'argument',\n",
              " 'arizona',\n",
              " 'armrest',\n",
              " 'arms',\n",
              " 'army',\n",
              " 'around',\n",
              " 'arrange',\n",
              " 'arrangement',\n",
              " 'arrival',\n",
              " 'arrive',\n",
              " 'arrived',\n",
              " 'arrives',\n",
              " 'arriving',\n",
              " 'article',\n",
              " 'aruba',\n",
              " 'as',\n",
              " 'asap',\n",
              " 'ase',\n",
              " 'ashamed',\n",
              " 'asia',\n",
              " 'ask',\n",
              " 'asked',\n",
              " 'askpaypal',\n",
              " 'asks',\n",
              " 'asleep',\n",
              " 'aspen',\n",
              " 'assault',\n",
              " 'asset',\n",
              " 'asshole',\n",
              " 'assign',\n",
              " 'assignment',\n",
              " 'assist',\n",
              " 'assistance',\n",
              " 'associate',\n",
              " 'assult',\n",
              " 'assume',\n",
              " 'assurance',\n",
              " 'assure',\n",
              " 'astound',\n",
              " 'at',\n",
              " 'atc',\n",
              " 'athlete',\n",
              " 'atl',\n",
              " 'atlanta',\n",
              " 'atlantic',\n",
              " 'atleast',\n",
              " 'atrocious',\n",
              " 'attach',\n",
              " 'attempt',\n",
              " 'attend',\n",
              " 'attendant',\n",
              " 'attendee',\n",
              " 'attention',\n",
              " 'attentiveness',\n",
              " 'attitude',\n",
              " 'aug',\n",
              " 'august',\n",
              " 'auh',\n",
              " 'aus',\n",
              " 'austin',\n",
              " 'austinairport',\n",
              " 'australia',\n",
              " 'auto',\n",
              " 'automate',\n",
              " 'automatically',\n",
              " 'autoresponse',\n",
              " 'avail',\n",
              " 'availability',\n",
              " 'available',\n",
              " 'average',\n",
              " 'avgeek',\n",
              " 'aviation',\n",
              " 'avis',\n",
              " 'aviv',\n",
              " 'avoid',\n",
              " 'aw',\n",
              " 'await',\n",
              " 'award',\n",
              " 'aware',\n",
              " 'away',\n",
              " 'awe',\n",
              " 'awesome',\n",
              " 'awesomeness',\n",
              " 'awful',\n",
              " 'awhile',\n",
              " 'awkward',\n",
              " 'aww',\n",
              " 'awww',\n",
              " 'az',\n",
              " 'b1',\n",
              " 'b11',\n",
              " 'b12',\n",
              " 'b16',\n",
              " 'b4',\n",
              " 'b6',\n",
              " 'b737',\n",
              " 'b767',\n",
              " 'b787',\n",
              " 'b8',\n",
              " 'ba',\n",
              " 'baby',\n",
              " 'back',\n",
              " 'backlog',\n",
              " 'backpack',\n",
              " 'backup',\n",
              " 'bad',\n",
              " 'badcustomerservice',\n",
              " 'badge',\n",
              " 'badly',\n",
              " 'badmgmt',\n",
              " 'badservice',\n",
              " 'bae',\n",
              " 'bag',\n",
              " 'bagage',\n",
              " 'baggage',\n",
              " 'baggagelost',\n",
              " 'bags',\n",
              " 'bahamas',\n",
              " 'bait',\n",
              " 'balance',\n",
              " 'ball',\n",
              " 'balls',\n",
              " 'baltimore',\n",
              " 'ban',\n",
              " 'band',\n",
              " 'bandwidth',\n",
              " 'bangkok',\n",
              " 'bank',\n",
              " 'bankrupt',\n",
              " 'bar',\n",
              " 'barbados',\n",
              " 'barbara',\n",
              " 'barely',\n",
              " 'base',\n",
              " 'basic',\n",
              " 'basically',\n",
              " 'basket',\n",
              " 'bathroom',\n",
              " 'battery',\n",
              " 'battierccipuppy',\n",
              " 'batting',\n",
              " 'battle',\n",
              " 'battles',\n",
              " 'battling',\n",
              " 'bay',\n",
              " 'bc',\n",
              " 'bday',\n",
              " 'bdl',\n",
              " 'be',\n",
              " 'beach',\n",
              " 'beanie',\n",
              " 'beantownmatty',\n",
              " 'beat',\n",
              " 'beating',\n",
              " 'beautiful',\n",
              " 'beauty',\n",
              " 'become',\n",
              " 'bed',\n",
              " 'been',\n",
              " 'beer',\n",
              " 'before',\n",
              " 'beg',\n",
              " 'begin',\n",
              " 'behalf',\n",
              " 'behavior',\n",
              " 'behind',\n",
              " 'belfast',\n",
              " 'believe',\n",
              " 'belize',\n",
              " 'bellagio',\n",
              " 'belong',\n",
              " 'belonging',\n",
              " 'belt',\n",
              " 'benefit',\n",
              " 'bereavement',\n",
              " 'bergstrom',\n",
              " 'besides',\n",
              " 'best',\n",
              " 'bestairline',\n",
              " 'bestairlineever',\n",
              " 'bestemployees',\n",
              " 'bestflightever',\n",
              " 'besty',\n",
              " 'bet',\n",
              " 'betsy',\n",
              " 'better',\n",
              " 'beverage',\n",
              " 'beware',\n",
              " 'beyond',\n",
              " 'bf',\n",
              " 'bff',\n",
              " 'bgm',\n",
              " 'bgr',\n",
              " 'bhm',\n",
              " 'bicycle',\n",
              " 'big',\n",
              " 'biggest',\n",
              " 'bike',\n",
              " 'bill',\n",
              " 'billing',\n",
              " 'billion',\n",
              " 'bin',\n",
              " 'bio',\n",
              " 'bird',\n",
              " 'birmingham',\n",
              " 'birth',\n",
              " 'birthday',\n",
              " 'bit',\n",
              " 'bitch',\n",
              " 'biz',\n",
              " 'bk',\n",
              " 'black',\n",
              " 'blackhistorymonth',\n",
              " 'blah',\n",
              " 'blame',\n",
              " 'blank',\n",
              " 'blanket',\n",
              " 'blast',\n",
              " 'blasting',\n",
              " 'blatant',\n",
              " 'bless',\n",
              " 'blew',\n",
              " 'blizzard',\n",
              " 'block',\n",
              " 'blog',\n",
              " 'bloody',\n",
              " 'blow',\n",
              " 'blowing',\n",
              " 'blown',\n",
              " 'blue',\n",
              " 'bluecarpet',\n",
              " 'bluemanity',\n",
              " 'bna',\n",
              " 'board',\n",
              " 'boarded',\n",
              " 'boarding',\n",
              " 'boat',\n",
              " 'boeing',\n",
              " 'boeingairplanes',\n",
              " 'bogota',\n",
              " 'boise',\n",
              " 'bold',\n",
              " 'bom',\n",
              " 'bonus',\n",
              " 'boo',\n",
              " 'book',\n",
              " 'booked',\n",
              " 'booking',\n",
              " 'boom',\n",
              " 'boot',\n",
              " 'booze',\n",
              " 'bora',\n",
              " 'border',\n",
              " 'bos',\n",
              " 'boston',\n",
              " 'bostonlogan',\n",
              " 'bot',\n",
              " 'bother',\n",
              " 'bottle',\n",
              " 'bottom',\n",
              " 'bought',\n",
              " 'bougth',\n",
              " 'bounce',\n",
              " 'bound',\n",
              " 'bout',\n",
              " 'box',\n",
              " 'boy',\n",
              " 'boyfriend',\n",
              " 'bqn',\n",
              " 'brag',\n",
              " 'brain',\n",
              " 'brand',\n",
              " 'brandloveaffair',\n",
              " 'brandmance',\n",
              " 'brandssayingbae',\n",
              " 'brave',\n",
              " 'brazil',\n",
              " 'breach',\n",
              " 'break',\n",
              " 'breakdown',\n",
              " 'breakfast',\n",
              " 'breath',\n",
              " 'bretharold',\n",
              " 'brian',\n",
              " 'bridge',\n",
              " 'bright',\n",
              " 'brilliant',\n",
              " 'bring',\n",
              " 'british_airways',\n",
              " 'bro',\n",
              " 'broke',\n",
              " 'broken',\n",
              " 'brokenpromises',\n",
              " 'brother',\n",
              " 'brothers',\n",
              " 'brought',\n",
              " 'browser',\n",
              " 'bruh',\n",
              " 'brushing',\n",
              " 'brutal',\n",
              " 'bs',\n",
              " 'btr',\n",
              " 'bttr',\n",
              " 'btv',\n",
              " 'btw',\n",
              " 'buck',\n",
              " 'bucket',\n",
              " 'buddy',\n",
              " 'budget',\n",
              " 'buenos',\n",
              " 'buf',\n",
              " 'buffalo',\n",
              " 'bug',\n",
              " 'bull',\n",
              " 'bullshit',\n",
              " 'bum',\n",
              " 'bummer',\n",
              " 'bump',\n",
              " 'bumped',\n",
              " 'bumper',\n",
              " 'bumping',\n",
              " 'bunch',\n",
              " 'burbank',\n",
              " 'burning',\n",
              " 'burningman',\n",
              " 'bus',\n",
              " 'bush',\n",
              " 'busiest',\n",
              " 'business',\n",
              " 'businessfirst',\n",
              " 'bussey',\n",
              " 'busy',\n",
              " 'but',\n",
              " 'butt',\n",
              " 'button',\n",
              " 'buy',\n",
              " 'buyer',\n",
              " 'buying',\n",
              " 'bwi',\n",
              " 'bwi_airport',\n",
              " 'c19',\n",
              " 'c25',\n",
              " 'c26',\n",
              " 'c4',\n",
              " 'ca',\n",
              " 'cab',\n",
              " 'cabin',\n",
              " 'cabo',\n",
              " 'cache',\n",
              " 'caffeine',\n",
              " 'cake',\n",
              " 'cal',\n",
              " 'calendar',\n",
              " 'calgary',\n",
              " 'cali',\n",
              " 'california',\n",
              " 'call',\n",
              " 'callback',\n",
              " 'called',\n",
              " 'caller',\n",
              " 'calling',\n",
              " 'calls',\n",
              " 'camera',\n",
              " 'can',\n",
              " 'cana',\n",
              " 'canada',\n",
              " 'canadian',\n",
              " 'cancelled',\n",
              " 'cancer',\n",
              " 'cancun',\n",
              " 'cant',\n",
              " 'canx',\n",
              " 'capa_aviation',\n",
              " 'capable',\n",
              " 'capacity',\n",
              " 'capital',\n",
              " ...]"
            ]
          },
          "metadata": {
            "tags": []
          },
          "execution_count": 83
        }
      ]
    },
    {
      "metadata": {
        "id": "3yPrWwtfTe6i",
        "colab_type": "code",
        "colab": {}
      },
      "cell_type": "code",
      "source": [
        "b=count_vec.transform(tf.iloc[:,0])"
      ],
      "execution_count": 0,
      "outputs": []
    },
    {
      "metadata": {
        "id": "7Q7mDlPyTiKJ",
        "colab_type": "code",
        "colab": {}
      },
      "cell_type": "code",
      "source": [
        "#tf.iloc[:,0]"
      ],
      "execution_count": 0,
      "outputs": []
    },
    {
      "metadata": {
        "id": "6Q_PdKQxUEaL",
        "colab_type": "code",
        "colab": {
          "base_uri": "https://localhost:8080/",
          "height": 84
        },
        "outputId": "fc70dc12-b3b5-48d7-9b75-0d848fa40b11"
      },
      "cell_type": "code",
      "source": [
        "from sklearn.svm import SVC\n",
        "clf = SVC(C=50,gamma=0.005)\n",
        "clf.fit(a,cat) "
      ],
      "execution_count": 87,
      "outputs": [
        {
          "output_type": "execute_result",
          "data": {
            "text/plain": [
              "SVC(C=50, cache_size=200, class_weight=None, coef0=0.0,\n",
              "  decision_function_shape='ovr', degree=3, gamma=0.005, kernel='rbf',\n",
              "  max_iter=-1, probability=False, random_state=None, shrinking=True,\n",
              "  tol=0.001, verbose=False)"
            ]
          },
          "metadata": {
            "tags": []
          },
          "execution_count": 87
        }
      ]
    },
    {
      "metadata": {
        "id": "LlDk2H_XUNzA",
        "colab_type": "code",
        "colab": {
          "base_uri": "https://localhost:8080/",
          "height": 84
        },
        "outputId": "35cd3e7c-7976-468e-d11e-e3184b1c1858"
      },
      "cell_type": "code",
      "source": [
        "from sklearn.ensemble import RandomForestClassifier\n",
        "clf = SVC(C=50,gamma=0.005)\n",
        "clf.fit(a,cat) "
      ],
      "execution_count": 89,
      "outputs": [
        {
          "output_type": "execute_result",
          "data": {
            "text/plain": [
              "SVC(C=50, cache_size=200, class_weight=None, coef0=0.0,\n",
              "  decision_function_shape='ovr', degree=3, gamma=0.005, kernel='rbf',\n",
              "  max_iter=-1, probability=False, random_state=None, shrinking=True,\n",
              "  tol=0.001, verbose=False)"
            ]
          },
          "metadata": {
            "tags": []
          },
          "execution_count": 89
        }
      ]
    },
    {
      "metadata": {
        "id": "6n5ludc7VVbL",
        "colab_type": "code",
        "colab": {}
      },
      "cell_type": "code",
      "source": [
        "y=clf.predict(b)"
      ],
      "execution_count": 0,
      "outputs": []
    },
    {
      "metadata": {
        "id": "l4eDeeGiVYuh",
        "colab_type": "code",
        "colab": {}
      },
      "cell_type": "code",
      "source": [
        "import numpy as np\n",
        "from google.colab import files\n",
        "np.savetxt('predictions.csv',y,fmt = '%s')\n",
        "files.download('predictions.csv')"
      ],
      "execution_count": 0,
      "outputs": []
    }
  ]
}